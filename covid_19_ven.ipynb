{
 "metadata": {
  "language_info": {
   "codemirror_mode": {
    "name": "ipython",
    "version": 3
   },
   "file_extension": ".py",
   "mimetype": "text/x-python",
   "name": "python",
   "nbconvert_exporter": "python",
   "pygments_lexer": "ipython3",
   "version": "3.8.4-final"
  },
  "orig_nbformat": 2,
  "kernelspec": {
   "name": "python38464bit627dbb2e7b294ec9ad7c7769d8fd6859",
   "display_name": "Python 3.8.4 64-bit"
  }
 },
 "nbformat": 4,
 "nbformat_minor": 2,
 "cells": [
  {
   "cell_type": "code",
   "execution_count": null,
   "metadata": {
    "tags": []
   },
   "outputs": [],
   "source": [
    "import numpy as np\n",
    "import pandas as pd\n",
    "import matplotlib.pyplot as plt\n",
    "import matplotlib.ticker as ticker\n",
    "import seaborn as sns\n",
    "import plotly.express as px\n",
    "import urllib\n",
    "import os\n",
    "%matplotlib inline\n",
    "pd.set_option('display.float_format', lambda x: '%.5f' % x) #opción para evitar la notacion cientifica\n",
    "\n"
   ]
  },
  {
   "cell_type": "code",
   "execution_count": null,
   "metadata": {},
   "outputs": [],
   "source": [
    "url = \"https://covid19.who.int/WHO-COVID-19-global-data.csv\"\n",
    "file_path = os.path.join(\"data\", \"covid\")\n",
    "os.makedirs(file_path, exist_ok=True)\n",
    "csv_path = os.path.join(file_path, \"WHO-COVID-19-global-data.csv\")\n",
    "urllib.request.urlretrieve(url, csv_path)\n",
    "df = pd.read_csv(csv_path)\n",
    "df.columns = [col.strip() for col in df.columns]\n",
    "df"
   ]
  },
  {
   "cell_type": "code",
   "execution_count": null,
   "metadata": {},
   "outputs": [],
   "source": [
    "df_col = df[df.Country == \"Colombia\"][[\"Date_reported\", \"New_cases\"]]\n",
    "#df_col.index = df_col.Date_reported\n",
    "#df_col.columns = [\"Date_reported_col\", \"New_cases_col\"]\n",
    "df_arg = df[df.Country == \"Argentina\"][[\"Date_reported\", \"New_cases\"]]\n",
    "#df_arg.index = df_arg.Date_reported\n",
    "#df_arg.columns = [\"Date_reported_col\", \"New_cases_col\"]\n",
    "df_per = df[df.Country == \"Peru\"][[\"Date_reported\", \"New_cases\"]]\n",
    "#df_per.index = df_per.Date_reported\n",
    "#df_per.columns = [\"Date_reported_col\", \"New_cases_col\"]\n",
    "df_ecu = df[df.Country == \"Ecuador\"][[\"Date_reported\", \"New_cases\"]]\n",
    "#df_ecu.index = df_ecu.Date_reported\n",
    "#df_ecu.columns = [\"Date_reported_col\", \"New_cases_col\"]\n",
    "df_chi = df[df.Country == \"Chile\"][[\"Date_reported\", \"New_cases\"]]\n",
    "#df_chi.index = df_chi.Date_reported\n",
    "#df_chi.columns = [\"Date_reported_col\", \"New_cases_col\"]\n",
    "df_rwa = df[df.Country == \"Rwanda\"][[\"Date_reported\", \"New_cases\"]]\n",
    "#df_rwa.index = df_rwa.Date_reported\n",
    "#df_rwa.columns = [\"Date_reported_rwa\", \"New_cases_rwa\"]\n",
    "df_ven = df[df.Country_code == \"VE\"][[\"Date_reported\", \"New_cases\"]]\n",
    "#df_ven.index = df_ven.Date_reported\n",
    "#df_ven.columns = [\"Date_reported_ven\", \"New_cases_ven\"]\n",
    "df_bra = df[df.Country == \"Brazil\"][[\"Date_reported\", \"New_cases\"]]\n",
    "df_usa = df[df.Country_code == \"US\"][[\"Date_reported\", \"New_cases\"]]\n",
    "df_uru = df[df.Country == \"Uruguay\"][[\"Date_reported\", \"New_cases\"]]\n",
    "df_sue = df[df.Country == \"Sweden\"][[\"Date_reported\", \"New_cases\", \"New_deaths\"]]\n",
    "df_den = df[df.Country == \"Denmark\"][[\"Date_reported\", \"New_cases\", \"New_deaths\"]]\n",
    "df_nor = df[df.Country == \"Norway\"][[\"Date_reported\", \"New_cases\", \"New_deaths\"]]\n"
   ]
  },
  {
   "cell_type": "code",
   "execution_count": null,
   "metadata": {},
   "outputs": [],
   "source": [
    "df_ven.columns = [\"Date_reported\", \"New_cases_ven\"]\n",
    "df_ven = pd.merge(df_ven, df_col, how='left', left_on=\"Date_reported\", right_on=\"Date_reported\")\n",
    "df_ven.columns = [\"Date_reported\", \"New_cases_ven\", \"New_cases_col\"]\n",
    "df_ven = pd.merge(df_ven, df_chi, how='left', left_on=\"Date_reported\", right_on=\"Date_reported\")\n",
    "df_ven.columns = [\"Date_reported\", \"New_cases_ven\", \"New_cases_col\", \"New_cases_chi\"]\n",
    "df_ven = pd.merge(df_ven, df_ecu, how='left', left_on=\"Date_reported\", right_on=\"Date_reported\")\n",
    "df_ven.columns = [\"Date_reported\", \"New_cases_ven\",\"New_cases_col\", \"New_cases_chi\",\"New_cases_ecu\"]\n",
    "df_ven = pd.merge(df_ven, df_per, how='left', left_on=\"Date_reported\", right_on=\"Date_reported\")\n",
    "df_ven.columns = [\"Date_reported\", \"New_cases_ven\", \"New_cases_col\", \"New_cases_chi\",\"New_cases_ecu\", \"New_cases_per\"]\n",
    "df_ven = pd.merge(df_ven, df_arg, how='left', left_on=\"Date_reported\", right_on=\"Date_reported\")\n",
    "df_ven.columns = [\"Date_reported\", \"New_cases_ven\", \"New_cases_col\", \"New_cases_chi\",\"New_cases_ecu\", \"New_cases_per\", \"New_cases_arg\"]\n",
    "df_ven = pd.merge(df_ven, df_bra, how='left', left_on=\"Date_reported\", right_on=\"Date_reported\")\n",
    "df_ven.columns = [\"Date_reported\", \"New_cases_ven\", \"New_cases_col\", \"New_cases_chi\",\"New_cases_ecu\", \"New_cases_per\", \"New_cases_arg\", \"New_cases_bra\"]\n",
    "df_ven = pd.merge(df_ven, df_usa, how='left', left_on=\"Date_reported\", right_on=\"Date_reported\")\n",
    "df_ven.columns = [\"Date_reported\", \"New_cases_ven\", \"New_cases_col\", \"New_cases_chi\",\"New_cases_ecu\", \"New_cases_per\", \"New_cases_arg\", \"New_cases_bra\", \"New_cases_usa\"]\n",
    "df_ven = pd.merge(df_ven, df_rwa, how='left', left_on=\"Date_reported\", right_on=\"Date_reported\")\n",
    "df_ven.columns = [\"Date_reported\", \"New_cases_ven\", \"New_cases_col\", \"New_cases_chi\",\"New_cases_ecu\", \"New_cases_per\", \"New_cases_arg\", \"New_cases_bra\", \"New_cases_usa\", \"New_cases_rwa\"]\n",
    "\n",
    "df_ven = pd.merge(df_ven, df_uru, how='left', left_on=\"Date_reported\", right_on=\"Date_reported\")\n",
    "df_ven.columns = [\"Date_reported\", \"New_cases_ven\", \"New_cases_col\", \"New_cases_chi\",\"New_cases_ecu\", \"New_cases_per\", \"New_cases_arg\", \"New_cases_bra\", \"New_cases_usa\", \"New_cases_rwa\", \"New_cases_uru\"]\n",
    "\n",
    "df_ven = pd.merge(df_ven, df_sue, how='left', left_on=\"Date_reported\", right_on=\"Date_reported\")\n",
    "df_ven.columns = [\"Date_reported\", \"New_cases_ven\", \"New_cases_col\", \"New_cases_chi\",\"New_cases_ecu\", \"New_cases_per\", \"New_cases_arg\", \"New_cases_bra\", \"New_cases_usa\", \"New_cases_rwa\", \"New_cases_uru\", \"New_cases_sue\", \"New_deaths_sue\"]\n",
    "\n"
   ]
  },
  {
   "cell_type": "code",
   "execution_count": null,
   "metadata": {},
   "outputs": [],
   "source": [
    "df_ven[\"New_cases_roll_ven\"] = df_ven.New_cases_ven.rolling(7).mean()\n",
    "df_ven[\"New_cases_roll_col\"] = df_ven.New_cases_col.rolling(7).mean()\n",
    "df_ven[\"New_cases_roll_chi\"] = df_ven.New_cases_chi.rolling(7).mean()\n",
    "df_ven[\"New_cases_roll_ecu\"] = df_ven.New_cases_ecu.rolling(7).mean()\n",
    "df_ven[\"New_cases_roll_per\"] = df_ven.New_cases_per.rolling(7).mean()\n",
    "df_ven[\"New_cases_roll_arg\"] = df_ven.New_cases_arg.rolling(7).mean()\n",
    "df_ven[\"New_cases_roll_bra\"] = df_ven.New_cases_bra.rolling(7).mean()\n",
    "df_ven[\"New_cases_roll_usa\"] = df_ven.New_cases_usa.rolling(7).mean()\n",
    "df_ven[\"New_cases_roll_rwa\"] = df_ven.New_cases_rwa.rolling(7).mean()\n",
    "df_ven[\"New_cases_roll_uru\"] = df_ven.New_cases_uru.rolling(7).mean()\n",
    "df_ven[\"New_cases_roll_sue\"] = df_ven.New_cases_sue.rolling(7).mean()\n",
    "\n",
    "df_ven = df_ven[~np.isnan(df_ven.New_cases_roll_ven)]"
   ]
  },
  {
   "cell_type": "code",
   "execution_count": null,
   "metadata": {},
   "outputs": [],
   "source": [
    "df_ven.index = df_ven.Date_reported\n",
    "plt.figure(figsize=(16,10))\n",
    "plt.style.use('fivethirtyeight')\n",
    "plt.title('Nuevos casos diarios confirmados de COVID-19.', fontdict={'fontweight':'bold', 'fontsize': 16})\n",
    "plt.plot(df_ven.Date_reported, df_ven.New_cases_roll_col, '#fe5d26', label = 'Colombia')\n",
    "plt.plot(df_ven.Date_reported, df_ven.New_cases_roll_chi, '#FCBF49', label = 'Chile')\n",
    "plt.plot(df_ven.Date_reported, df_ven.New_cases_roll_per, '#0ead69', label = 'Peru')\n",
    "plt.plot(df_ven.Date_reported, df_ven.New_cases_roll_arg, '#002C42', label = 'Argentina')\n",
    "plt.plot(df_ven.Date_reported, df_ven.New_cases_roll_ecu, '#5c677d', label = 'Ecuador')\n",
    "x_ticks = np.arange(0, len(df_ven.Date_reported), 10)\n",
    "plt.xticks(x_ticks ,rotation=45)\n",
    "plt.legend()\n",
    "x_coordinates = [0, 144]\n",
    "y_coordinates = [0, 0]\n",
    "plt.plot(x_coordinates, y_coordinates, \"black\")\n",
    "plt.grid(True)\n",
    "plt.show()"
   ]
  },
  {
   "cell_type": "code",
   "execution_count": null,
   "metadata": {},
   "outputs": [],
   "source": [
    "df_ven.index = df_ven.Date_reported\n",
    "plt.figure(figsize=(16,10))\n",
    "plt.style.use('fivethirtyeight')\n",
    "plt.title('Nuevos casos diarios confirmados de COVID-19.', fontdict={'fontweight':'bold', 'fontsize': 16})\n",
    "plt.plot(df_ven.Date_reported, df_ven.New_cases_roll_ven, '#e71d36', label = 'Venezuela')\n",
    "plt.plot(df_ven.Date_reported, df_ven.New_cases_roll_uru, '#00bbf9', label = 'Uruguay')\n",
    "x_ticks = np.arange(0, len(df_ven.Date_reported), 10)\n",
    "plt.xticks(x_ticks ,rotation=45)\n",
    "plt.legend()\n",
    "x_coordinates = [0, 144]\n",
    "y_coordinates = [0, 0]\n",
    "plt.plot(x_coordinates, y_coordinates, \"black\")\n",
    "plt.grid(True)\n",
    "plt.show()"
   ]
  },
  {
   "cell_type": "code",
   "execution_count": null,
   "metadata": {},
   "outputs": [],
   "source": [
    "df_ven.index = df_ven.Date_reported\n",
    "plt.style.use('fivethirtyeight')\n",
    "plt.figure(figsize=(16,10))\n",
    "plt.title('Nuevos casos diarios confirmados de COVID-19. Uruguay', fontdict={'fontweight':'bold', 'fontsize': 16})\n",
    "plt.plot(df_ven.Date_reported, df_ven.New_cases_roll_uru, '#00bbf9', label = 'Uruguay')\n",
    "x_ticks = np.arange(0, len(df_ven.Date_reported), 10)\n",
    "plt.xticks(x_ticks ,rotation=45)\n",
    "plt.legend()\n",
    "x_coordinates = [0, 144]\n",
    "y_coordinates = [0, 0]\n",
    "plt.plot(x_coordinates, y_coordinates, \"black\")\n",
    "plt.grid(True)\n",
    "plt.show()"
   ]
  },
  {
   "cell_type": "code",
   "execution_count": null,
   "metadata": {},
   "outputs": [],
   "source": [
    "df_ven.index = df_ven.Date_reported\n",
    "plt.figure(figsize=(16,10))\n",
    "plt.style.use('fivethirtyeight')\n",
    "plt.title('Nuevos casos diarios confirmados de COVID-19. log', fontdict={'fontweight':'bold', 'fontsize': 16})\n",
    "plt.plot(df_ven.Date_reported, np.log(df_ven.New_cases_roll_col), '#fe5d26', label = 'Colombia')\n",
    "plt.plot(df_ven.Date_reported, np.log(df_ven.New_cases_roll_chi), '#FCBF49', label = 'Chile')\n",
    "plt.plot(df_ven.Date_reported, np.log(df_ven.New_cases_roll_per), '#0ead69', label = 'Peru')\n",
    "plt.plot(df_ven.Date_reported, np.log(df_ven.New_cases_roll_arg), '#002C42', label = 'Argentina')\n",
    "plt.plot(df_ven.Date_reported, np.log(df_ven.New_cases_roll_ecu), '#5c677d', label = 'Ecuador')\n",
    "plt.plot(df_ven.Date_reported, np.log(df_ven.New_cases_roll_bra), '#143601', label = 'Brasil')\n",
    "plt.plot(df_ven.Date_reported, np.log(df_ven.New_cases_roll_ven), '#e71d36', label = 'Venezuela')\n",
    "plt.plot(df_ven.Date_reported, np.log(df_ven.New_cases_roll_uru), '#00bbf9', label = 'Uruguay')\n",
    "\n",
    "x_ticks = np.arange(0, len(df_ven.Date_reported), 10)\n",
    "plt.xticks(x_ticks ,rotation=45)\n",
    "plt.legend()\n",
    "x_coordinates = [0, 144]\n",
    "y_coordinates = [0, 0]\n",
    "plt.plot(x_coordinates, y_coordinates, \"black\")\n",
    "plt.grid(True)\n",
    "plt.show()"
   ]
  },
  {
   "cell_type": "code",
   "execution_count": null,
   "metadata": {},
   "outputs": [],
   "source": [
    "df_ven.index = df_ven.Date_reported\n",
    "plt.figure(figsize=(16,10))\n",
    "plt.style.use('fivethirtyeight')\n",
    "plt.title('Nuevos casos diarios confirmados de COVID-19. log Ven vs Col', fontdict={'fontweight':'bold', 'fontsize': 16})\n",
    "plt.plot(df_ven.Date_reported, np.log(df_ven.New_cases_roll_col), '#fe5d26', label = 'Colombia')\n",
    "plt.plot(df_ven.Date_reported, np.log(df_ven.New_cases_roll_ven), '#e71d36', label = 'Venezuela')\n",
    "plt.plot(df_ven.Date_reported, np.log(df_ven.New_cases_roll_uru), '#00bbf9', label = 'Uruguay')\n",
    "x_ticks = np.arange(0, len(df_ven.Date_reported), 10)\n",
    "plt.xticks(x_ticks ,rotation=45)\n",
    "plt.legend()\n",
    "x_coordinates = [0, 144]\n",
    "y_coordinates = [0, 0]\n",
    "plt.plot(x_coordinates, y_coordinates, \"black\")\n",
    "plt.show()"
   ]
  },
  {
   "cell_type": "code",
   "execution_count": null,
   "metadata": {},
   "outputs": [],
   "source": [
    "df_ven.index = df_ven.Date_reported\n",
    "plt.style.use('fivethirtyeight')\n",
    "plt.figure(figsize=(16,10))\n",
    "plt.title('Nuevos casos diarios confirmados de COVID-19. Ven vs Col', fontdict={'fontweight':'bold', 'fontsize': 16})\n",
    "plt.plot(df_ven.Date_reported, df_ven.New_cases_roll_col, '#fe5d26', label = 'Colombia')\n",
    "plt.plot(df_ven.Date_reported, df_ven.New_cases_roll_ven, '#e71d36', label = 'Venezuela')\n",
    "x_ticks = np.arange(0, len(df_ven.Date_reported), 10)\n",
    "plt.xticks(x_ticks ,rotation=45)\n",
    "plt.legend()\n",
    "x_coordinates = [0, 144]\n",
    "y_coordinates = [0, 0]\n",
    "plt.plot(x_coordinates, y_coordinates, \"black\")\n",
    "plt.show()"
   ]
  },
  {
   "cell_type": "code",
   "execution_count": null,
   "metadata": {},
   "outputs": [],
   "source": [
    "df_ven.index = df_ven.Date_reported\n",
    "plt.style.use('fivethirtyeight')\n",
    "plt.figure(figsize=(16,10))\n",
    "plt.title('Nuevos casos diarios confirmados de COVID-19. Suecia', fontdict={'fontweight':'bold', 'fontsize': 16})\n",
    "plt.plot(df_ven.Date_reported, df_ven.New_cases_roll_sue, '#14213D', label = 'Suecia')\n",
    "x_ticks = np.arange(0, len(df_ven.Date_reported), 10)\n",
    "plt.xticks(x_ticks ,rotation=45)\n",
    "plt.legend()\n",
    "x_coordinates = [0, 144]\n",
    "y_coordinates = [0, 0]\n",
    "plt.plot(x_coordinates, y_coordinates, \"black\")\n",
    "plt.show()"
   ]
  },
  {
   "cell_type": "code",
   "execution_count": null,
   "metadata": {},
   "outputs": [],
   "source": [
    "df_ven.index = df_ven.Date_reported\n",
    "plt.style.use('fivethirtyeight')\n",
    "plt.figure(figsize=(16,10))\n",
    "plt.title('Nuevos casos diarios confirmados de COVID-19 Log. Suecia', fontdict={'fontweight':'bold', 'fontsize': 16})\n",
    "plt.plot(df_ven.Date_reported, np.log(df_ven.New_cases_roll_sue), '#14213D', label = 'Suecia')\n",
    "x_ticks = np.arange(0, len(df_ven.Date_reported), 10)\n",
    "plt.xticks(x_ticks ,rotation=45)\n",
    "plt.legend()\n",
    "plt.show()"
   ]
  },
  {
   "cell_type": "code",
   "execution_count": null,
   "metadata": {},
   "outputs": [],
   "source": [
    "df_ven.index = df_ven.Date_reported\n",
    "plt.figure(figsize=(16,10))\n",
    "plt.style.use('fivethirtyeight')\n",
    "plt.title('Nuevos casos diarios confirmados de COVID-19. log', fontdict={'fontweight':'bold', 'fontsize': 16})\n",
    "plt.plot(df_ven.Date_reported, np.log(df_ven.New_cases_roll_col), '#fe5d26', label = 'Colombia')\n",
    "plt.plot(df_ven.Date_reported, np.log(df_ven.New_cases_roll_chi), '#FCBF49', label = 'Chile')\n",
    "plt.plot(df_ven.Date_reported, np.log(df_ven.New_cases_roll_bra), '#143601', label = 'Brasil')\n",
    "plt.plot(df_ven.Date_reported, np.log(df_ven.New_cases_roll_ven), '#e71d36', label = 'Venezuela')\n",
    "plt.plot(df_ven.Date_reported, np.log(df_ven.New_cases_roll_sue), '#14213D', label = 'Suecia')\n",
    "\n",
    "x_ticks = np.arange(0, len(df_ven.Date_reported), 10)\n",
    "plt.xticks(x_ticks ,rotation=45)\n",
    "plt.legend()\n",
    "x_coordinates = [0, 144]\n",
    "y_coordinates = [0, 0]\n",
    "plt.plot(x_coordinates, y_coordinates, \"black\")\n",
    "plt.grid(True)\n",
    "plt.show()"
   ]
  },
  {
   "cell_type": "code",
   "execution_count": null,
   "metadata": {},
   "outputs": [],
   "source": [
    "plt.style.use('fivethirtyeight')\n",
    "x = [df_sue.New_deaths.sum(), df_nor.New_deaths.sum(), df_den.New_deaths.sum()]\n",
    "y = [\"Suecia\",\"Dinamarca\", \"Noruega\"]\n",
    "plt.figure(figsize=(10,6))\n",
    "plt.style.use('fivethirtyeight')\n",
    "color_list = ['#14213D', '#b5b682', '#d81159']\n",
    "plt.bar(y, x, width=0.5, color=color_list)\n",
    "for x,y in zip(y, x):\n",
    "\n",
    "    label = \"{:.2f}\".format(y)\n",
    "\n",
    "    plt.annotate(label, # this is the text\n",
    "                 (x,y), # this is the point to label\n",
    "                 textcoords=\"offset points\", # how to position the text\n",
    "                 xytext=(0,15), # distance from text to points (x,y)\n",
    "                 ha='center')\n",
    "plt.ylabel('Muertes')\n",
    "plt.title('Muertes Totales')"
   ]
  },
  {
   "cell_type": "code",
   "execution_count": null,
   "metadata": {},
   "outputs": [],
   "source": []
  }
 ]
}