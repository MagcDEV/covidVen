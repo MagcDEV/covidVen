{
 "metadata": {
  "language_info": {
   "codemirror_mode": {
    "name": "ipython",
    "version": 3
   },
   "file_extension": ".py",
   "mimetype": "text/x-python",
   "name": "python",
   "nbconvert_exporter": "python",
   "pygments_lexer": "ipython3",
   "version": "3.8.4-final"
  },
  "orig_nbformat": 2,
  "kernelspec": {
   "name": "python38464bit627dbb2e7b294ec9ad7c7769d8fd6859",
   "display_name": "Python 3.8.4 64-bit"
  }
 },
 "nbformat": 4,
 "nbformat_minor": 2,
 "cells": [
  {
   "cell_type": "code",
   "execution_count": 3,
   "metadata": {
    "tags": []
   },
   "outputs": [
    {
     "output_type": "execute_result",
     "data": {
      "text/plain": "      Date_reported Country_code      Country WHO_region  New_cases  Cumulative_cases  New_deaths  Cumulative_deaths\n0        2020-02-24           AF  Afghanistan       EMRO          5                 5           0                  0\n1        2020-02-25           AF  Afghanistan       EMRO          0                 5           0                  0\n2        2020-02-26           AF  Afghanistan       EMRO          0                 5           0                  0\n3        2020-02-27           AF  Afghanistan       EMRO          0                 5           0                  0\n4        2020-02-28           AF  Afghanistan       EMRO          0                 5           0                  0\n...             ...          ...          ...        ...        ...               ...         ...                ...\n31874    2020-07-27           ZW     Zimbabwe       AFRO         78              2512           0                 34\n31875    2020-07-28           ZW     Zimbabwe       AFRO        192              2704           2                 36\n31876    2020-07-29           ZW     Zimbabwe       AFRO        113              2817           4                 40\n31877    2020-07-30           ZW     Zimbabwe       AFRO         62              2879           1                 41\n31878    2020-07-31           ZW     Zimbabwe       AFRO        213              3092          12                 53\n\n[31879 rows x 8 columns]",
      "text/html": "<div>\n<style scoped>\n    .dataframe tbody tr th:only-of-type {\n        vertical-align: middle;\n    }\n\n    .dataframe tbody tr th {\n        vertical-align: top;\n    }\n\n    .dataframe thead th {\n        text-align: right;\n    }\n</style>\n<table border=\"1\" class=\"dataframe\">\n  <thead>\n    <tr style=\"text-align: right;\">\n      <th></th>\n      <th>Date_reported</th>\n      <th>Country_code</th>\n      <th>Country</th>\n      <th>WHO_region</th>\n      <th>New_cases</th>\n      <th>Cumulative_cases</th>\n      <th>New_deaths</th>\n      <th>Cumulative_deaths</th>\n    </tr>\n  </thead>\n  <tbody>\n    <tr>\n      <th>0</th>\n      <td>2020-02-24</td>\n      <td>AF</td>\n      <td>Afghanistan</td>\n      <td>EMRO</td>\n      <td>5</td>\n      <td>5</td>\n      <td>0</td>\n      <td>0</td>\n    </tr>\n    <tr>\n      <th>1</th>\n      <td>2020-02-25</td>\n      <td>AF</td>\n      <td>Afghanistan</td>\n      <td>EMRO</td>\n      <td>0</td>\n      <td>5</td>\n      <td>0</td>\n      <td>0</td>\n    </tr>\n    <tr>\n      <th>2</th>\n      <td>2020-02-26</td>\n      <td>AF</td>\n      <td>Afghanistan</td>\n      <td>EMRO</td>\n      <td>0</td>\n      <td>5</td>\n      <td>0</td>\n      <td>0</td>\n    </tr>\n    <tr>\n      <th>3</th>\n      <td>2020-02-27</td>\n      <td>AF</td>\n      <td>Afghanistan</td>\n      <td>EMRO</td>\n      <td>0</td>\n      <td>5</td>\n      <td>0</td>\n      <td>0</td>\n    </tr>\n    <tr>\n      <th>4</th>\n      <td>2020-02-28</td>\n      <td>AF</td>\n      <td>Afghanistan</td>\n      <td>EMRO</td>\n      <td>0</td>\n      <td>5</td>\n      <td>0</td>\n      <td>0</td>\n    </tr>\n    <tr>\n      <th>...</th>\n      <td>...</td>\n      <td>...</td>\n      <td>...</td>\n      <td>...</td>\n      <td>...</td>\n      <td>...</td>\n      <td>...</td>\n      <td>...</td>\n    </tr>\n    <tr>\n      <th>31874</th>\n      <td>2020-07-27</td>\n      <td>ZW</td>\n      <td>Zimbabwe</td>\n      <td>AFRO</td>\n      <td>78</td>\n      <td>2512</td>\n      <td>0</td>\n      <td>34</td>\n    </tr>\n    <tr>\n      <th>31875</th>\n      <td>2020-07-28</td>\n      <td>ZW</td>\n      <td>Zimbabwe</td>\n      <td>AFRO</td>\n      <td>192</td>\n      <td>2704</td>\n      <td>2</td>\n      <td>36</td>\n    </tr>\n    <tr>\n      <th>31876</th>\n      <td>2020-07-29</td>\n      <td>ZW</td>\n      <td>Zimbabwe</td>\n      <td>AFRO</td>\n      <td>113</td>\n      <td>2817</td>\n      <td>4</td>\n      <td>40</td>\n    </tr>\n    <tr>\n      <th>31877</th>\n      <td>2020-07-30</td>\n      <td>ZW</td>\n      <td>Zimbabwe</td>\n      <td>AFRO</td>\n      <td>62</td>\n      <td>2879</td>\n      <td>1</td>\n      <td>41</td>\n    </tr>\n    <tr>\n      <th>31878</th>\n      <td>2020-07-31</td>\n      <td>ZW</td>\n      <td>Zimbabwe</td>\n      <td>AFRO</td>\n      <td>213</td>\n      <td>3092</td>\n      <td>12</td>\n      <td>53</td>\n    </tr>\n  </tbody>\n</table>\n<p>31879 rows × 8 columns</p>\n</div>"
     },
     "metadata": {},
     "execution_count": 3
    }
   ],
   "source": [
    "import numpy as np\n",
    "import pandas as pd\n",
    "import matplotlib.pyplot as plt\n",
    "import matplotlib.ticker as ticker\n",
    "import seaborn as sns\n",
    "import plotly.express as px\n",
    "import urllib\n",
    "import os\n",
    "\n",
    "%matplotlib inline\n",
    "pd.set_option('display.float_format', lambda x: '%.5f' % x) #opción para evitar la notacion cientifica\n",
    "\n",
    "url = \"https://covid19.who.int/WHO-COVID-19-global-data.csv\"\n",
    "file_path = os.path.join(\"data\", \"covid\")\n",
    "os.makedirs(file_path, exist_ok=True)\n",
    "csv_path = os.path.join(file_path, \"WHO-COVID-19-global-data.csv\")\n",
    "urllib.request.urlretrieve(url, csv_path)\n",
    "df = pd.read_csv(csv_path)\n",
    "df.columns = [col.strip() for col in df.columns]\n",
    "df"
   ]
  },
  {
   "cell_type": "code",
   "execution_count": 4,
   "metadata": {},
   "outputs": [
    {
     "output_type": "execute_result",
     "data": {
      "text/plain": "Index(['Date_reported', 'Country_code', 'Country', 'WHO_region', 'New_cases', 'Cumulative_cases', 'New_deaths', 'Cumulative_deaths'], dtype='object')"
     },
     "metadata": {},
     "execution_count": 4
    }
   ],
   "source": [
    "df.columns"
   ]
  },
  {
   "cell_type": "code",
   "execution_count": 5,
   "metadata": {
    "tags": []
   },
   "outputs": [
    {
     "output_type": "stream",
     "name": "stdout",
     "text": "<class 'pandas.core.frame.DataFrame'>\nRangeIndex: 31879 entries, 0 to 31878\nData columns (total 8 columns):\n #   Column             Non-Null Count  Dtype \n---  ------             --------------  ----- \n 0   Date_reported      31879 non-null  object\n 1   Country_code       31739 non-null  object\n 2   Country            31879 non-null  object\n 3   WHO_region         31879 non-null  object\n 4   New_cases          31879 non-null  int64 \n 5   Cumulative_cases   31879 non-null  int64 \n 6   New_deaths         31879 non-null  int64 \n 7   Cumulative_deaths  31879 non-null  int64 \ndtypes: int64(4), object(4)\nmemory usage: 1.9+ MB\n"
    }
   ],
   "source": [
    "df.info()"
   ]
  },
  {
   "cell_type": "code",
   "execution_count": 6,
   "metadata": {},
   "outputs": [],
   "source": [
    "df_col = df[df.Country == \"Colombia\"][[\"Date_reported\", \"New_cases\"]]\n",
    "#df_col.index = df_col.Date_reported\n",
    "#df_col.columns = [\"Date_reported_col\", \"New_cases_col\"]\n",
    "df_arg = df[df.Country == \"Argentina\"][[\"Date_reported\", \"New_cases\"]]\n",
    "#df_arg.index = df_arg.Date_reported\n",
    "#df_arg.columns = [\"Date_reported_col\", \"New_cases_col\"]\n",
    "df_per = df[df.Country == \"Peru\"][[\"Date_reported\", \"New_cases\"]]\n",
    "#df_per.index = df_per.Date_reported\n",
    "#df_per.columns = [\"Date_reported_col\", \"New_cases_col\"]\n",
    "df_ecu = df[df.Country == \"Ecuador\"][[\"Date_reported\", \"New_cases\"]]\n",
    "#df_ecu.index = df_ecu.Date_reported\n",
    "#df_ecu.columns = [\"Date_reported_col\", \"New_cases_col\"]\n",
    "df_chi = df[df.Country == \"Chile\"][[\"Date_reported\", \"New_cases\"]]\n",
    "#df_chi.index = df_chi.Date_reported\n",
    "#df_chi.columns = [\"Date_reported_col\", \"New_cases_col\"]\n",
    "df_rwa = df[df.Country == \"Rwanda\"][[\"Date_reported\", \"New_cases\"]]\n",
    "#df_rwa.index = df_rwa.Date_reported\n",
    "#df_rwa.columns = [\"Date_reported_rwa\", \"New_cases_rwa\"]\n",
    "df_ven = df[df.Country_code == \"VE\"][[\"Date_reported\", \"New_cases\"]]\n",
    "#df_ven.index = df_ven.Date_reported\n",
    "#df_ven.columns = [\"Date_reported_ven\", \"New_cases_ven\"]\n",
    "df_bra = df[df.Country == \"Brazil\"][[\"Date_reported\", \"New_cases\"]]\n",
    "df_usa = df[df.Country_code == \"US\"][[\"Date_reported\", \"New_cases\"]]"
   ]
  },
  {
   "cell_type": "code",
   "execution_count": null,
   "metadata": {},
   "outputs": [],
   "source": [
    "fig, ax = plt.subplots(figsize=(16, 6))\n",
    "ax.set(yscale=\"log\")\n",
    "ax.yaxis.set_major_formatter(ticker.FuncFormatter(lambda y, _: '{:g}'.format(y)))\n",
    "\n",
    "sns.lineplot(x=covid_worldwide_confirmed.index, y=covid_worldwide_confirmed, sort=False, linewidth=2)\n",
    "sns.lineplot(x=covid_worldwide_deaths.index, y=covid_worldwide_deaths, sort=False, linewidth=2)\n",
    "sns.lineplot(x=covid_worldwide_recovered.index, y=covid_worldwide_recovered, sort=False, linewidth=2)\n",
    "sns.lineplot(x=covid_worldwide_active.index, y=covid_worldwide_active, sort=False, linewidth=2)\n",
    "\n",
    "ax.lines[0].set_linestyle(\"--\")\n",
    "\n",
    "plt.suptitle(\"COVID-19 worldwide cases over the time\", fontsize=16, fontweight='bold', color='white')\n",
    "plt.title(\"(logarithmic scale)\", color='white')\n",
    "\n",
    "plt.xticks(rotation=45)\n",
    "plt.ylabel('Number of cases')\n",
    "\n",
    "ax.legend(['Confirmed', 'Deaths', 'Recovered', 'Active'])\n",
    "\n",
    "plt.show()"
   ]
  },
  {
   "cell_type": "code",
   "execution_count": 7,
   "metadata": {},
   "outputs": [],
   "source": [
    "df_ven.columns = [\"Date_reported\", \"New_cases_ven\"]\n",
    "df_ven = pd.merge(df_ven, df_col, how='left', left_on=\"Date_reported\", right_on=\"Date_reported\")\n",
    "df_ven.columns = [\"Date_reported\", \"New_cases_ven\", \"New_cases_col\"]\n",
    "df_ven = pd.merge(df_ven, df_chi, how='left', left_on=\"Date_reported\", right_on=\"Date_reported\")\n",
    "df_ven.columns = [\"Date_reported\", \"New_cases_ven\", \"New_cases_col\", \"New_cases_chi\"]\n",
    "df_ven = pd.merge(df_ven, df_ecu, how='left', left_on=\"Date_reported\", right_on=\"Date_reported\")\n",
    "df_ven.columns = [\"Date_reported\", \"New_cases_ven\",\"New_cases_col\", \"New_cases_chi\",\"New_cases_ecu\"]\n",
    "df_ven = pd.merge(df_ven, df_per, how='left', left_on=\"Date_reported\", right_on=\"Date_reported\")\n",
    "df_ven.columns = [\"Date_reported\", \"New_cases_ven\", \"New_cases_col\", \"New_cases_chi\",\"New_cases_ecu\", \"New_cases_per\"]\n",
    "df_ven = pd.merge(df_ven, df_arg, how='left', left_on=\"Date_reported\", right_on=\"Date_reported\")\n",
    "df_ven.columns = [\"Date_reported\", \"New_cases_ven\", \"New_cases_col\", \"New_cases_chi\",\"New_cases_ecu\", \"New_cases_per\", \"New_cases_arg\"]\n",
    "df_ven = pd.merge(df_ven, df_bra, how='left', left_on=\"Date_reported\", right_on=\"Date_reported\")\n",
    "df_ven.columns = [\"Date_reported\", \"New_cases_ven\", \"New_cases_col\", \"New_cases_chi\",\"New_cases_ecu\", \"New_cases_per\", \"New_cases_arg\", \"New_cases_bra\"]\n",
    "df_ven = pd.merge(df_ven, df_usa, how='left', left_on=\"Date_reported\", right_on=\"Date_reported\")\n",
    "df_ven.columns = [\"Date_reported\", \"New_cases_ven\", \"New_cases_col\", \"New_cases_chi\",\"New_cases_ecu\", \"New_cases_per\", \"New_cases_arg\", \"New_cases_bra\", \"New_cases_usa\"]\n",
    "df_ven = pd.merge(df_ven, df_rwa, how='left', left_on=\"Date_reported\", right_on=\"Date_reported\")\n",
    "df_ven.columns = [\"Date_reported\", \"New_cases_ven\", \"New_cases_col\", \"New_cases_chi\",\"New_cases_ecu\", \"New_cases_per\", \"New_cases_arg\", \"New_cases_bra\", \"New_cases_usa\", \"New_cases_rwa\"]\n"
   ]
  },
  {
   "cell_type": "code",
   "execution_count": 8,
   "metadata": {},
   "outputs": [
    {
     "output_type": "execute_result",
     "data": {
      "text/plain": "    Date_reported  New_cases_ven  New_cases_col  New_cases_chi  New_cases_ecu  New_cases_per  New_cases_arg  New_cases_bra  New_cases_usa  New_cases_rwa  New_cases_roll_ven  New_cases_roll_col  New_cases_roll_chi  New_cases_roll_ecu  New_cases_roll_per  New_cases_roll_arg  New_cases_roll_bra  New_cases_roll_usa  New_cases_roll_rwa\n6      2020-03-20              0             37             92            168              0             27            193           4777        0.00000             5.71429            17.85714            55.28571            48.57143            29.71429            13.28571            74.14286          1993.00000                 nan\n7      2020-03-21              0             51              0            139             84             30            283              0        2.00000             4.85714            24.00000            52.71429            68.42857            40.85714            15.57143           111.28571          1933.85714             2.42857\n8      2020-03-22              0              0              0              0              0              0              0              0        0.00000             2.71429            24.00000            52.71429            68.42857            38.71429            15.57143           111.28571          1928.71429             1.14286\n9      2020-03-23             30              0            198             26              0             67              0          16354        0.00000             7.00000            22.57143            79.00000            70.14286            34.71429            23.57143           100.00000          4265.00000             1.14286\n10     2020-03-24              7            110            290            517             98             76           1297          20341       19.00000             5.71429            36.71429           108.85714           141.00000            46.57143            33.14286           280.42857          6910.57143             3.57143\n..            ...            ...            ...            ...            ...            ...            ...            ...            ...            ...                 ...                 ...                 ...                 ...                 ...                 ...                 ...                 ...                 ...\n135    2020-07-27            666           7254           2198            658           3923           4801          51147          63968       71.00000           492.28571          7156.42857          2122.85714           954.42857          4340.57143          5113.85714         45664.71429         66078.71429            34.42857\n136    2020-07-28            534           8181           2133            467           4913           4205          24578          61498       56.00000           510.28571          7385.42857          2127.71429           934.42857          4458.14286          5110.14286         45814.57143         65894.42857            35.71429\n137    2020-07-29            525           8125           1877           1118           4920           4890          23284          54022       47.00000           522.00000          7585.14286          2159.57143           866.00000          4576.57143          5234.57143         46247.00000         65429.57143            38.71429\n138    2020-07-30            583          10284           1775            914           5288           5939          40816          59629       37.00000           542.42857          8049.57143          2167.57143           848.00000          4702.57143          5319.57143         46219.57143         64958.14286            39.14286\n139    2020-07-31            588           8670           1961           1177           5678           5641          69074          65406       31.00000           570.71429          8232.42857          2111.00000           888.85714          4876.14286          5299.42857         46393.00000         64353.14286            40.57143\n\n[134 rows x 19 columns]",
      "text/html": "<div>\n<style scoped>\n    .dataframe tbody tr th:only-of-type {\n        vertical-align: middle;\n    }\n\n    .dataframe tbody tr th {\n        vertical-align: top;\n    }\n\n    .dataframe thead th {\n        text-align: right;\n    }\n</style>\n<table border=\"1\" class=\"dataframe\">\n  <thead>\n    <tr style=\"text-align: right;\">\n      <th></th>\n      <th>Date_reported</th>\n      <th>New_cases_ven</th>\n      <th>New_cases_col</th>\n      <th>New_cases_chi</th>\n      <th>New_cases_ecu</th>\n      <th>New_cases_per</th>\n      <th>New_cases_arg</th>\n      <th>New_cases_bra</th>\n      <th>New_cases_usa</th>\n      <th>New_cases_rwa</th>\n      <th>New_cases_roll_ven</th>\n      <th>New_cases_roll_col</th>\n      <th>New_cases_roll_chi</th>\n      <th>New_cases_roll_ecu</th>\n      <th>New_cases_roll_per</th>\n      <th>New_cases_roll_arg</th>\n      <th>New_cases_roll_bra</th>\n      <th>New_cases_roll_usa</th>\n      <th>New_cases_roll_rwa</th>\n    </tr>\n  </thead>\n  <tbody>\n    <tr>\n      <th>6</th>\n      <td>2020-03-20</td>\n      <td>0</td>\n      <td>37</td>\n      <td>92</td>\n      <td>168</td>\n      <td>0</td>\n      <td>27</td>\n      <td>193</td>\n      <td>4777</td>\n      <td>0.00000</td>\n      <td>5.71429</td>\n      <td>17.85714</td>\n      <td>55.28571</td>\n      <td>48.57143</td>\n      <td>29.71429</td>\n      <td>13.28571</td>\n      <td>74.14286</td>\n      <td>1993.00000</td>\n      <td>nan</td>\n    </tr>\n    <tr>\n      <th>7</th>\n      <td>2020-03-21</td>\n      <td>0</td>\n      <td>51</td>\n      <td>0</td>\n      <td>139</td>\n      <td>84</td>\n      <td>30</td>\n      <td>283</td>\n      <td>0</td>\n      <td>2.00000</td>\n      <td>4.85714</td>\n      <td>24.00000</td>\n      <td>52.71429</td>\n      <td>68.42857</td>\n      <td>40.85714</td>\n      <td>15.57143</td>\n      <td>111.28571</td>\n      <td>1933.85714</td>\n      <td>2.42857</td>\n    </tr>\n    <tr>\n      <th>8</th>\n      <td>2020-03-22</td>\n      <td>0</td>\n      <td>0</td>\n      <td>0</td>\n      <td>0</td>\n      <td>0</td>\n      <td>0</td>\n      <td>0</td>\n      <td>0</td>\n      <td>0.00000</td>\n      <td>2.71429</td>\n      <td>24.00000</td>\n      <td>52.71429</td>\n      <td>68.42857</td>\n      <td>38.71429</td>\n      <td>15.57143</td>\n      <td>111.28571</td>\n      <td>1928.71429</td>\n      <td>1.14286</td>\n    </tr>\n    <tr>\n      <th>9</th>\n      <td>2020-03-23</td>\n      <td>30</td>\n      <td>0</td>\n      <td>198</td>\n      <td>26</td>\n      <td>0</td>\n      <td>67</td>\n      <td>0</td>\n      <td>16354</td>\n      <td>0.00000</td>\n      <td>7.00000</td>\n      <td>22.57143</td>\n      <td>79.00000</td>\n      <td>70.14286</td>\n      <td>34.71429</td>\n      <td>23.57143</td>\n      <td>100.00000</td>\n      <td>4265.00000</td>\n      <td>1.14286</td>\n    </tr>\n    <tr>\n      <th>10</th>\n      <td>2020-03-24</td>\n      <td>7</td>\n      <td>110</td>\n      <td>290</td>\n      <td>517</td>\n      <td>98</td>\n      <td>76</td>\n      <td>1297</td>\n      <td>20341</td>\n      <td>19.00000</td>\n      <td>5.71429</td>\n      <td>36.71429</td>\n      <td>108.85714</td>\n      <td>141.00000</td>\n      <td>46.57143</td>\n      <td>33.14286</td>\n      <td>280.42857</td>\n      <td>6910.57143</td>\n      <td>3.57143</td>\n    </tr>\n    <tr>\n      <th>...</th>\n      <td>...</td>\n      <td>...</td>\n      <td>...</td>\n      <td>...</td>\n      <td>...</td>\n      <td>...</td>\n      <td>...</td>\n      <td>...</td>\n      <td>...</td>\n      <td>...</td>\n      <td>...</td>\n      <td>...</td>\n      <td>...</td>\n      <td>...</td>\n      <td>...</td>\n      <td>...</td>\n      <td>...</td>\n      <td>...</td>\n      <td>...</td>\n    </tr>\n    <tr>\n      <th>135</th>\n      <td>2020-07-27</td>\n      <td>666</td>\n      <td>7254</td>\n      <td>2198</td>\n      <td>658</td>\n      <td>3923</td>\n      <td>4801</td>\n      <td>51147</td>\n      <td>63968</td>\n      <td>71.00000</td>\n      <td>492.28571</td>\n      <td>7156.42857</td>\n      <td>2122.85714</td>\n      <td>954.42857</td>\n      <td>4340.57143</td>\n      <td>5113.85714</td>\n      <td>45664.71429</td>\n      <td>66078.71429</td>\n      <td>34.42857</td>\n    </tr>\n    <tr>\n      <th>136</th>\n      <td>2020-07-28</td>\n      <td>534</td>\n      <td>8181</td>\n      <td>2133</td>\n      <td>467</td>\n      <td>4913</td>\n      <td>4205</td>\n      <td>24578</td>\n      <td>61498</td>\n      <td>56.00000</td>\n      <td>510.28571</td>\n      <td>7385.42857</td>\n      <td>2127.71429</td>\n      <td>934.42857</td>\n      <td>4458.14286</td>\n      <td>5110.14286</td>\n      <td>45814.57143</td>\n      <td>65894.42857</td>\n      <td>35.71429</td>\n    </tr>\n    <tr>\n      <th>137</th>\n      <td>2020-07-29</td>\n      <td>525</td>\n      <td>8125</td>\n      <td>1877</td>\n      <td>1118</td>\n      <td>4920</td>\n      <td>4890</td>\n      <td>23284</td>\n      <td>54022</td>\n      <td>47.00000</td>\n      <td>522.00000</td>\n      <td>7585.14286</td>\n      <td>2159.57143</td>\n      <td>866.00000</td>\n      <td>4576.57143</td>\n      <td>5234.57143</td>\n      <td>46247.00000</td>\n      <td>65429.57143</td>\n      <td>38.71429</td>\n    </tr>\n    <tr>\n      <th>138</th>\n      <td>2020-07-30</td>\n      <td>583</td>\n      <td>10284</td>\n      <td>1775</td>\n      <td>914</td>\n      <td>5288</td>\n      <td>5939</td>\n      <td>40816</td>\n      <td>59629</td>\n      <td>37.00000</td>\n      <td>542.42857</td>\n      <td>8049.57143</td>\n      <td>2167.57143</td>\n      <td>848.00000</td>\n      <td>4702.57143</td>\n      <td>5319.57143</td>\n      <td>46219.57143</td>\n      <td>64958.14286</td>\n      <td>39.14286</td>\n    </tr>\n    <tr>\n      <th>139</th>\n      <td>2020-07-31</td>\n      <td>588</td>\n      <td>8670</td>\n      <td>1961</td>\n      <td>1177</td>\n      <td>5678</td>\n      <td>5641</td>\n      <td>69074</td>\n      <td>65406</td>\n      <td>31.00000</td>\n      <td>570.71429</td>\n      <td>8232.42857</td>\n      <td>2111.00000</td>\n      <td>888.85714</td>\n      <td>4876.14286</td>\n      <td>5299.42857</td>\n      <td>46393.00000</td>\n      <td>64353.14286</td>\n      <td>40.57143</td>\n    </tr>\n  </tbody>\n</table>\n<p>134 rows × 19 columns</p>\n</div>"
     },
     "metadata": {},
     "execution_count": 8
    }
   ],
   "source": [
    "df_ven[\"New_cases_roll_ven\"] = df_ven.New_cases_ven.rolling(7).mean()\n",
    "df_ven[\"New_cases_roll_col\"] = df_ven.New_cases_col.rolling(7).mean()\n",
    "df_ven[\"New_cases_roll_chi\"] = df_ven.New_cases_chi.rolling(7).mean()\n",
    "df_ven[\"New_cases_roll_ecu\"] = df_ven.New_cases_ecu.rolling(7).mean()\n",
    "df_ven[\"New_cases_roll_per\"] = df_ven.New_cases_per.rolling(7).mean()\n",
    "df_ven[\"New_cases_roll_arg\"] = df_ven.New_cases_arg.rolling(7).mean()\n",
    "df_ven[\"New_cases_roll_bra\"] = df_ven.New_cases_bra.rolling(7).mean()\n",
    "df_ven[\"New_cases_roll_usa\"] = df_ven.New_cases_usa.rolling(7).mean()\n",
    "df_ven[\"New_cases_roll_rwa\"] = df_ven.New_cases_rwa.rolling(7).mean()\n",
    "df_ven = df_ven[~np.isnan(df_ven.New_cases_roll_ven)] \n",
    "\n",
    "\n",
    "#df_ven[\"pct_chan_ven\"] = df_ven[\"New_cases_ven\"].pct_change() * 100\n",
    "#df_ven[\"pct_chan_col\"] = df_ven[\"New_cases_col\"].pct_change() * 100\n",
    "#df_ven[\"pct_chan_chi\"] = df_ven[\"New_cases_chi\"].pct_change() * 100\n",
    "#df_ven[\"pct_chan_ecu\"] = df_ven[\"New_cases_ecu\"].pct_change() * 100\n",
    "#df_ven[\"pct_chan_per\"] = df_ven[\"New_cases_per\"].pct_change() * 100\n",
    "#df_ven[\"pct_chan_arg\"] = df_ven[\"New_cases_arg\"].pct_change() * 100\n",
    "#df_ven[\"pct_chan_bra\"] = df_ven[\"New_cases_bra\"].pct_change() * 100\n",
    "#df_ven[\"pct_chan_usa\"] = df_ven[\"New_cases_usa\"].pct_change() * 100\n",
    "#df_ven.pct_chan_ven[np.isinf(df_ven.pct_chan_ven) | np.isnan(df_ven.pct_chan_ven)] = 0\n",
    "#df_ven.pct_chan_col[np.isinf(df_ven.pct_chan_col) | np.isnan(df_ven.pct_chan_col)] = 0\n",
    "#df_ven.pct_chan_chi[np.isinf(df_ven.pct_chan_chi) | np.isnan(df_ven.pct_chan_chi)] = 0\n",
    "#df_ven.pct_chan_ecu[np.isinf(df_ven.pct_chan_ecu) | np.isnan(df_ven.pct_chan_ecu)] = 0\n",
    "#df_ven.pct_chan_per[np.isinf(df_ven.pct_chan_per) | np.isnan(df_ven.pct_chan_per)] = 0\n",
    "#df_ven.pct_chan_arg[np.isinf(df_ven.pct_chan_arg) | np.isnan(df_ven.pct_chan_arg)] = 0\n",
    "#df_ven.pct_chan_bra[np.isinf(df_ven.pct_chan_bra) | np.isnan(df_ven.pct_chan_bra)] = 0\n",
    "#df_ven.pct_chan_usa[np.isinf(df_ven.pct_chan_usa) | np.isnan(df_ven.pct_chan_usa)] = 0\n",
    "#df_ven[\"pct_chan_ven_roll\"] = df_ven.New_cases_ven.rolling(7).mean()\n",
    "#df_ven[\"pct_chan_col_roll\"] = df_ven.New_cases_col.rolling(7).mean()\n",
    "#df_ven[\"pct_chan_chi_roll\"] = df_ven.New_cases_chi.rolling(7).mean()\n",
    "#df_ven[\"pct_chan_ecu_roll\"] = df_ven.New_cases_ecu.rolling(7).mean()\n",
    "#df_ven[\"pct_chan_per_roll\"] = df_ven.New_cases_per.rolling(7).mean()\n",
    "#df_ven[\"pct_chan_arg_roll\"] = df_ven.New_cases_arg.rolling(7).mean()\n",
    "#df_ven[\"pct_chan_bra_roll\"] = df_ven.New_cases_bra.rolling(7).mean()\n",
    "#df_ven[\"pct_chan_usa_roll\"] = df_ven.New_cases_usa.rolling(7).mean()\n",
    "#df_ven = df_ven[~np.isnan(df_ven.pct_chan_ven_roll)] \n",
    "df_ven"
   ]
  },
  {
   "cell_type": "code",
   "execution_count": null,
   "metadata": {},
   "outputs": [],
   "source": [
    "df_ven.index = df_ven.Date_reported\n",
    "plt.figure(figsize=(16,10))\n",
    "plt.title('Nuevos casos diarios confirmados de COVID-19.', fontdict={'fontweight':'bold', 'fontsize': 16})\n",
    "plt.plot(df_ven.Date_reported, df_ven.New_cases_roll_col, 'red', label = 'Colombia')\n",
    "plt.plot(df_ven.Date_reported, df_ven.New_cases_roll_chi, 'yellow', label = 'Chile')\n",
    "plt.plot(df_ven.Date_reported, df_ven.New_cases_roll_per, 'green', label = 'Peru')\n",
    "plt.plot(df_ven.Date_reported, df_ven.New_cases_roll_arg, 'blue', label = 'Argentina')\n",
    "plt.plot(df_ven.Date_reported, df_ven.New_cases_roll_ecu, 'grey', label = 'Ecuador')\n",
    "x_ticks = np.arange(0, len(df_ven.Date_reported), 10)\n",
    "plt.xticks(x_ticks ,rotation=45)\n",
    "plt.legend()\n",
    "x_coordinates = [0, 133]\n",
    "y_coordinates = [0, 0]\n",
    "plt.plot(x_coordinates, y_coordinates, \"black\")\n",
    "plt.show()"
   ]
  },
  {
   "cell_type": "code",
   "execution_count": null,
   "metadata": {},
   "outputs": [],
   "source": [
    "df_ven.index = df_ven.Date_reported\n",
    "plt.figure(figsize=(16,10))\n",
    "plt.title('Nuevos casos diarios confirmados de COVID-19.', fontdict={'fontweight':'bold', 'fontsize': 16})\n",
    "plt.plot(df_ven.Date_reported, df_ven.New_cases_roll_ven, 'red', label = 'Venezuela')\n",
    "x_ticks = np.arange(0, len(df_ven.Date_reported), 10)\n",
    "plt.xticks(x_ticks ,rotation=45)\n",
    "plt.legend()\n",
    "x_coordinates = [0, 133]\n",
    "y_coordinates = [0, 0]\n",
    "plt.plot(x_coordinates, y_coordinates, \"black\")\n",
    "plt.show()"
   ]
  },
  {
   "cell_type": "code",
   "execution_count": null,
   "metadata": {},
   "outputs": [],
   "source": [
    "df_ven.index = df_ven.Date_reported\n",
    "plt.figure(figsize=(16,10))\n",
    "plt.title('Nuevos casos diarios confirmados de COVID-19. log', fontdict={'fontweight':'bold', 'fontsize': 16})\n",
    "plt.plot(df_ven.Date_reported, np.log(df_ven.New_cases_roll_col), 'cyan', label = 'Colombia')\n",
    "plt.plot(df_ven.Date_reported, np.log(df_ven.New_cases_roll_chi), 'yellow', label = 'Chile')\n",
    "plt.plot(df_ven.Date_reported, np.log(df_ven.New_cases_roll_per), 'magenta', label = 'Peru')\n",
    "plt.plot(df_ven.Date_reported, np.log(df_ven.New_cases_roll_arg), 'blue', label = 'Argentina')\n",
    "plt.plot(df_ven.Date_reported, np.log(df_ven.New_cases_roll_ecu), 'grey', label = 'Ecuador')\n",
    "plt.plot(df_ven.Date_reported, np.log(df_ven.New_cases_roll_bra), 'green', label = 'Brasil')\n",
    "plt.plot(df_ven.Date_reported, np.log(df_ven.New_cases_roll_ven), 'red', label = 'Venezuela')\n",
    "x_ticks = np.arange(0, len(df_ven.Date_reported), 10)\n",
    "plt.xticks(x_ticks ,rotation=45)\n",
    "plt.legend()\n",
    "x_coordinates = [0, 133]\n",
    "y_coordinates = [0, 0]\n",
    "plt.plot(x_coordinates, y_coordinates, \"black\")\n",
    "plt.show()"
   ]
  },
  {
   "cell_type": "code",
   "execution_count": null,
   "metadata": {},
   "outputs": [],
   "source": [
    "df_ven.index = df_ven.Date_reported\n",
    "plt.figure(figsize=(16,10))\n",
    "plt.title('Nuevos casos diarios confirmados de COVID-19. log Ven vs Col', fontdict={'fontweight':'bold', 'fontsize': 16})\n",
    "plt.plot(df_ven.Date_reported, np.log(df_ven.New_cases_roll_col), 'cyan', label = 'Colombia')\n",
    "plt.plot(df_ven.Date_reported, np.log(df_ven.New_cases_roll_ven), 'red', label = 'Venezuela')\n",
    "x_ticks = np.arange(0, len(df_ven.Date_reported), 10)\n",
    "plt.xticks(x_ticks ,rotation=45)\n",
    "plt.legend()\n",
    "x_coordinates = [0, 133]\n",
    "y_coordinates = [0, 0]\n",
    "plt.plot(x_coordinates, y_coordinates, \"black\")\n",
    "plt.show()"
   ]
  },
  {
   "cell_type": "code",
   "execution_count": null,
   "metadata": {},
   "outputs": [],
   "source": [
    "df_ven.index = df_ven.Date_reported\n",
    "plt.figure(figsize=(16,10))\n",
    "plt.title('Nuevos casos diarios confirmados de COVID-19. Ven vs Col', fontdict={'fontweight':'bold', 'fontsize': 16})\n",
    "plt.plot(df_ven.Date_reported, df_ven.New_cases_roll_col, 'cyan', label = 'Colombia')\n",
    "plt.plot(df_ven.Date_reported, df_ven.New_cases_roll_ven, 'red', label = 'Venezuela')\n",
    "x_ticks = np.arange(0, len(df_ven.Date_reported), 10)\n",
    "plt.xticks(x_ticks ,rotation=45)\n",
    "plt.legend()\n",
    "x_coordinates = [0, 133]\n",
    "y_coordinates = [0, 0]\n",
    "plt.plot(x_coordinates, y_coordinates, \"black\")\n",
    "plt.show()"
   ]
  },
  {
   "cell_type": "code",
   "execution_count": null,
   "metadata": {},
   "outputs": [],
   "source": []
  }
 ]
}