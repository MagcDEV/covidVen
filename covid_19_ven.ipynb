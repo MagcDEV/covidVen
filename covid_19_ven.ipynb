{
 "metadata": {
  "language_info": {
   "codemirror_mode": {
    "name": "ipython",
    "version": 3
   },
   "file_extension": ".py",
   "mimetype": "text/x-python",
   "name": "python",
   "nbconvert_exporter": "python",
   "pygments_lexer": "ipython3",
   "version": "3.8.4-final"
  },
  "orig_nbformat": 2,
  "kernelspec": {
   "name": "python38464bit627dbb2e7b294ec9ad7c7769d8fd6859",
   "display_name": "Python 3.8.4 64-bit"
  }
 },
 "nbformat": 4,
 "nbformat_minor": 2,
 "cells": [
  {
   "cell_type": "code",
   "execution_count": 13,
   "metadata": {
    "tags": []
   },
   "outputs": [
    {
     "output_type": "execute_result",
     "data": {
      "text/plain": "      Date_reported Country_code      Country WHO_region  New_cases  \\\n0        2020-02-24           AF  Afghanistan       EMRO          1   \n1        2020-02-25           AF  Afghanistan       EMRO          0   \n2        2020-02-26           AF  Afghanistan       EMRO          0   \n3        2020-02-27           AF  Afghanistan       EMRO          0   \n4        2020-02-28           AF  Afghanistan       EMRO          0   \n...             ...          ...          ...        ...        ...   \n31571    2020-07-26           ZW     Zimbabwe       AFRO        138   \n31572    2020-07-27           ZW     Zimbabwe       AFRO         78   \n31573    2020-07-28           ZW     Zimbabwe       AFRO        192   \n31574    2020-07-29           ZW     Zimbabwe       AFRO        113   \n31575    2020-07-30           ZW     Zimbabwe       AFRO         62   \n\n       Cumulative_cases  New_deaths  Cumulative_deaths  \n0                     1           0                  0  \n1                     1           0                  0  \n2                     1           0                  0  \n3                     1           0                  0  \n4                     1           0                  0  \n...                 ...         ...                ...  \n31571              2434           2                 34  \n31572              2512           0                 34  \n31573              2704           2                 36  \n31574              2817           4                 40  \n31575              2879           1                 41  \n\n[31576 rows x 8 columns]",
      "text/html": "<div>\n<style scoped>\n    .dataframe tbody tr th:only-of-type {\n        vertical-align: middle;\n    }\n\n    .dataframe tbody tr th {\n        vertical-align: top;\n    }\n\n    .dataframe thead th {\n        text-align: right;\n    }\n</style>\n<table border=\"1\" class=\"dataframe\">\n  <thead>\n    <tr style=\"text-align: right;\">\n      <th></th>\n      <th>Date_reported</th>\n      <th>Country_code</th>\n      <th>Country</th>\n      <th>WHO_region</th>\n      <th>New_cases</th>\n      <th>Cumulative_cases</th>\n      <th>New_deaths</th>\n      <th>Cumulative_deaths</th>\n    </tr>\n  </thead>\n  <tbody>\n    <tr>\n      <th>0</th>\n      <td>2020-02-24</td>\n      <td>AF</td>\n      <td>Afghanistan</td>\n      <td>EMRO</td>\n      <td>1</td>\n      <td>1</td>\n      <td>0</td>\n      <td>0</td>\n    </tr>\n    <tr>\n      <th>1</th>\n      <td>2020-02-25</td>\n      <td>AF</td>\n      <td>Afghanistan</td>\n      <td>EMRO</td>\n      <td>0</td>\n      <td>1</td>\n      <td>0</td>\n      <td>0</td>\n    </tr>\n    <tr>\n      <th>2</th>\n      <td>2020-02-26</td>\n      <td>AF</td>\n      <td>Afghanistan</td>\n      <td>EMRO</td>\n      <td>0</td>\n      <td>1</td>\n      <td>0</td>\n      <td>0</td>\n    </tr>\n    <tr>\n      <th>3</th>\n      <td>2020-02-27</td>\n      <td>AF</td>\n      <td>Afghanistan</td>\n      <td>EMRO</td>\n      <td>0</td>\n      <td>1</td>\n      <td>0</td>\n      <td>0</td>\n    </tr>\n    <tr>\n      <th>4</th>\n      <td>2020-02-28</td>\n      <td>AF</td>\n      <td>Afghanistan</td>\n      <td>EMRO</td>\n      <td>0</td>\n      <td>1</td>\n      <td>0</td>\n      <td>0</td>\n    </tr>\n    <tr>\n      <th>...</th>\n      <td>...</td>\n      <td>...</td>\n      <td>...</td>\n      <td>...</td>\n      <td>...</td>\n      <td>...</td>\n      <td>...</td>\n      <td>...</td>\n    </tr>\n    <tr>\n      <th>31571</th>\n      <td>2020-07-26</td>\n      <td>ZW</td>\n      <td>Zimbabwe</td>\n      <td>AFRO</td>\n      <td>138</td>\n      <td>2434</td>\n      <td>2</td>\n      <td>34</td>\n    </tr>\n    <tr>\n      <th>31572</th>\n      <td>2020-07-27</td>\n      <td>ZW</td>\n      <td>Zimbabwe</td>\n      <td>AFRO</td>\n      <td>78</td>\n      <td>2512</td>\n      <td>0</td>\n      <td>34</td>\n    </tr>\n    <tr>\n      <th>31573</th>\n      <td>2020-07-28</td>\n      <td>ZW</td>\n      <td>Zimbabwe</td>\n      <td>AFRO</td>\n      <td>192</td>\n      <td>2704</td>\n      <td>2</td>\n      <td>36</td>\n    </tr>\n    <tr>\n      <th>31574</th>\n      <td>2020-07-29</td>\n      <td>ZW</td>\n      <td>Zimbabwe</td>\n      <td>AFRO</td>\n      <td>113</td>\n      <td>2817</td>\n      <td>4</td>\n      <td>40</td>\n    </tr>\n    <tr>\n      <th>31575</th>\n      <td>2020-07-30</td>\n      <td>ZW</td>\n      <td>Zimbabwe</td>\n      <td>AFRO</td>\n      <td>62</td>\n      <td>2879</td>\n      <td>1</td>\n      <td>41</td>\n    </tr>\n  </tbody>\n</table>\n<p>31576 rows × 8 columns</p>\n</div>"
     },
     "metadata": {},
     "execution_count": 13
    }
   ],
   "source": [
    "import pandas as pd\n",
    "import numpy as np\n",
    "import os\n",
    "import urllib\n",
    "%matplotlib inline\n",
    "pd.set_option('display.float_format', lambda x: '%.5f' % x) #opción para evitar la notacion cientifica\n",
    "\n",
    "url = \"https://covid19.who.int/WHO-COVID-19-global-data.csv\"\n",
    "file_path = os.path.join(\"data\", \"covid\")\n",
    "os.makedirs(file_path, exist_ok=True)\n",
    "csv_path = os.path.join(file_path, \"WHO-COVID-19-global-data.csv\")\n",
    "urllib.request.urlretrieve(url, csv_path)\n",
    "df = pd.read_csv(csv_path)\n",
    "df.columns = [col.strip() for col in df.columns]\n",
    "df"
   ]
  },
  {
   "cell_type": "code",
   "execution_count": 14,
   "metadata": {},
   "outputs": [
    {
     "output_type": "execute_result",
     "data": {
      "text/plain": "Index(['Date_reported', 'Country_code', 'Country', 'WHO_region', 'New_cases',\n       'Cumulative_cases', 'New_deaths', 'Cumulative_deaths'],\n      dtype='object')"
     },
     "metadata": {},
     "execution_count": 14
    }
   ],
   "source": [
    "df.columns"
   ]
  },
  {
   "cell_type": "code",
   "execution_count": 16,
   "metadata": {
    "tags": []
   },
   "outputs": [
    {
     "output_type": "stream",
     "name": "stdout",
     "text": "<class 'pandas.core.frame.DataFrame'>\nRangeIndex: 31576 entries, 0 to 31575\nData columns (total 8 columns):\n #   Column             Non-Null Count  Dtype \n---  ------             --------------  ----- \n 0   Date_reported      31576 non-null  object\n 1   Country_code       31437 non-null  object\n 2   Country            31576 non-null  object\n 3   WHO_region         31576 non-null  object\n 4   New_cases          31576 non-null  int64 \n 5   Cumulative_cases   31576 non-null  int64 \n 6   New_deaths         31576 non-null  int64 \n 7   Cumulative_deaths  31576 non-null  int64 \ndtypes: int64(4), object(4)\nmemory usage: 1.9+ MB\n"
    }
   ],
   "source": [
    "df.info()"
   ]
  },
  {
   "cell_type": "code",
   "execution_count": 20,
   "metadata": {},
   "outputs": [
    {
     "output_type": "execute_result",
     "data": {
      "text/plain": "     Date_reported Country_code   Country WHO_region  New_cases  \\\n6167    2020-03-06           CO  Colombia       AMRO          1   \n6168    2020-03-07           CO  Colombia       AMRO          0   \n6169    2020-03-08           CO  Colombia       AMRO          0   \n6170    2020-03-09           CO  Colombia       AMRO          0   \n6171    2020-03-10           CO  Colombia       AMRO          2   \n...            ...          ...       ...        ...        ...   \n6309    2020-07-26           CO  Colombia       AMRO       7168   \n6310    2020-07-27           CO  Colombia       AMRO       7254   \n6311    2020-07-28           CO  Colombia       AMRO       8181   \n6312    2020-07-29           CO  Colombia       AMRO       8125   \n6313    2020-07-30           CO  Colombia       AMRO      10284   \n\n      Cumulative_cases  New_deaths  Cumulative_deaths  \n6167                 1           0                  0  \n6168                 1           0                  0  \n6169                 1           0                  0  \n6170                 1           0                  0  \n6171                 3           0                  0  \n...                ...         ...                ...  \n6309            233541         287               7975  \n6310            240795         294               8269  \n6311            248976         256               8525  \n6312            257101         252               8777  \n6313            267385         297               9074  \n\n[147 rows x 8 columns]",
      "text/html": "<div>\n<style scoped>\n    .dataframe tbody tr th:only-of-type {\n        vertical-align: middle;\n    }\n\n    .dataframe tbody tr th {\n        vertical-align: top;\n    }\n\n    .dataframe thead th {\n        text-align: right;\n    }\n</style>\n<table border=\"1\" class=\"dataframe\">\n  <thead>\n    <tr style=\"text-align: right;\">\n      <th></th>\n      <th>Date_reported</th>\n      <th>Country_code</th>\n      <th>Country</th>\n      <th>WHO_region</th>\n      <th>New_cases</th>\n      <th>Cumulative_cases</th>\n      <th>New_deaths</th>\n      <th>Cumulative_deaths</th>\n    </tr>\n  </thead>\n  <tbody>\n    <tr>\n      <th>6167</th>\n      <td>2020-03-06</td>\n      <td>CO</td>\n      <td>Colombia</td>\n      <td>AMRO</td>\n      <td>1</td>\n      <td>1</td>\n      <td>0</td>\n      <td>0</td>\n    </tr>\n    <tr>\n      <th>6168</th>\n      <td>2020-03-07</td>\n      <td>CO</td>\n      <td>Colombia</td>\n      <td>AMRO</td>\n      <td>0</td>\n      <td>1</td>\n      <td>0</td>\n      <td>0</td>\n    </tr>\n    <tr>\n      <th>6169</th>\n      <td>2020-03-08</td>\n      <td>CO</td>\n      <td>Colombia</td>\n      <td>AMRO</td>\n      <td>0</td>\n      <td>1</td>\n      <td>0</td>\n      <td>0</td>\n    </tr>\n    <tr>\n      <th>6170</th>\n      <td>2020-03-09</td>\n      <td>CO</td>\n      <td>Colombia</td>\n      <td>AMRO</td>\n      <td>0</td>\n      <td>1</td>\n      <td>0</td>\n      <td>0</td>\n    </tr>\n    <tr>\n      <th>6171</th>\n      <td>2020-03-10</td>\n      <td>CO</td>\n      <td>Colombia</td>\n      <td>AMRO</td>\n      <td>2</td>\n      <td>3</td>\n      <td>0</td>\n      <td>0</td>\n    </tr>\n    <tr>\n      <th>...</th>\n      <td>...</td>\n      <td>...</td>\n      <td>...</td>\n      <td>...</td>\n      <td>...</td>\n      <td>...</td>\n      <td>...</td>\n      <td>...</td>\n    </tr>\n    <tr>\n      <th>6309</th>\n      <td>2020-07-26</td>\n      <td>CO</td>\n      <td>Colombia</td>\n      <td>AMRO</td>\n      <td>7168</td>\n      <td>233541</td>\n      <td>287</td>\n      <td>7975</td>\n    </tr>\n    <tr>\n      <th>6310</th>\n      <td>2020-07-27</td>\n      <td>CO</td>\n      <td>Colombia</td>\n      <td>AMRO</td>\n      <td>7254</td>\n      <td>240795</td>\n      <td>294</td>\n      <td>8269</td>\n    </tr>\n    <tr>\n      <th>6311</th>\n      <td>2020-07-28</td>\n      <td>CO</td>\n      <td>Colombia</td>\n      <td>AMRO</td>\n      <td>8181</td>\n      <td>248976</td>\n      <td>256</td>\n      <td>8525</td>\n    </tr>\n    <tr>\n      <th>6312</th>\n      <td>2020-07-29</td>\n      <td>CO</td>\n      <td>Colombia</td>\n      <td>AMRO</td>\n      <td>8125</td>\n      <td>257101</td>\n      <td>252</td>\n      <td>8777</td>\n    </tr>\n    <tr>\n      <th>6313</th>\n      <td>2020-07-30</td>\n      <td>CO</td>\n      <td>Colombia</td>\n      <td>AMRO</td>\n      <td>10284</td>\n      <td>267385</td>\n      <td>297</td>\n      <td>9074</td>\n    </tr>\n  </tbody>\n</table>\n<p>147 rows × 8 columns</p>\n</div>"
     },
     "metadata": {},
     "execution_count": 20
    }
   ],
   "source": [
    "df[df.Country_code == \"CO\"]"
   ]
  },
  {
   "cell_type": "code",
   "execution_count": null,
   "metadata": {},
   "outputs": [],
   "source": []
  }
 ]
}